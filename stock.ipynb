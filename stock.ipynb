{
 "cells": [
  {
   "cell_type": "markdown",
   "metadata": {},
   "source": [
    "# Stock Price Predicting with LSTM using Keras\n",
    "                                                                                                                         --Yiqiao Chen\n",
    "\n",
    "Neural Networks have been demonstrated to be very powerful in solving the real-world problems like imaging and natural language processing. Interested in stock price movements, I am therefore motivated and curious about employing nerual nets to approach financial time series problems of its kind.\n",
    "\n",
    "Unlike common regression predictions, time series problems are more difficult due to sequence dependence within the input data variables. Among various neural nets, Long Short-Term Memory (***LSTM***), a type of recurrent neural network, has been proven to take care of complex time series predictions. So I implement LSTM to Amazon's stock prices (***AMZN***) using ***Keras***."
   ]
  },
  {
   "cell_type": "code",
   "execution_count": 1,
   "metadata": {
    "scrolled": true
   },
   "outputs": [
    {
     "name": "stderr",
     "output_type": "stream",
     "text": [
      "Using TensorFlow backend.\n",
      "/Users/yiqiaochen/anaconda3/lib/python3.6/importlib/_bootstrap.py:219: RuntimeWarning: compiletime version 3.5 of module 'tensorflow.python.framework.fast_tensor_util' does not match runtime version 3.6\n",
      "  return f(*args, **kwds)\n"
     ]
    }
   ],
   "source": [
    "import numpy as np\n",
    "import pandas as pd\n",
    "import matplotlib.pyplot as plt\n",
    "from datetime import datetime\n",
    "from sklearn import preprocessing\n",
    "import keras\n",
    "from keras.models import Sequential\n",
    "from keras.layers.core import Dense, Dropout, Activation\n",
    "from keras.layers.recurrent import LSTM\n",
    "from keras.models import load_model\n",
    "from keras import backend as K\n",
    "import math, time\n",
    "import itertools\n",
    "from math import sqrt"
   ]
  },
  {
   "cell_type": "code",
   "execution_count": 2,
   "metadata": {
    "collapsed": true
   },
   "outputs": [],
   "source": [
    "homeDir = \"/Users/yiqiaochen/Desktop/stockPredictionUsingLSTM/\"\n",
    "stock = 'AMZN'"
   ]
  },
  {
   "cell_type": "markdown",
   "metadata": {},
   "source": [
    "## 1. Load Data\n",
    "\n",
    "Get up to five-year daily historical stock prices & volumes data from http://www.nasdaq.com/quotes/historical-quotes.aspx. \n",
    "\n",
    "Datasets consist of following columns:\n",
    "- **date** Time stamp of when data was collected, being used as index column;\n",
    "- **volume** The number of shares traded in AMZN during a given trading day;\n",
    "- **open** The price at AMZN upon the opening of an exchange on a given trading day;\n",
    "- **high** The highest price at which AMZN traded during the course of the day;\n",
    "- **low** The lowest price at which AMZN traded during the course of the day;\n",
    "- **close** The final price at which AMZN traded during the course of the day; it is also selected as our target data.\n",
    "\n",
    "Plus, add a new feature based on the columns above:\n",
    "- **pct** The percentage of change of close price compared to previous trading day."
   ]
  },
  {
   "cell_type": "code",
   "execution_count": 3,
   "metadata": {
    "scrolled": true
   },
   "outputs": [
    {
     "name": "stdout",
     "output_type": "stream",
     "text": [
      "Historical stock price data for 1217 days\n",
      "from 2013-01-03 to 2017-10-31\n"
     ]
    },
    {
     "data": {
      "text/html": [
       "<div>\n",
       "<style>\n",
       "    .dataframe thead tr:only-child th {\n",
       "        text-align: right;\n",
       "    }\n",
       "\n",
       "    .dataframe thead th {\n",
       "        text-align: left;\n",
       "    }\n",
       "\n",
       "    .dataframe tbody tr th {\n",
       "        vertical-align: top;\n",
       "    }\n",
       "</style>\n",
       "<table border=\"1\" class=\"dataframe\">\n",
       "  <thead>\n",
       "    <tr style=\"text-align: right;\">\n",
       "      <th></th>\n",
       "      <th>volume</th>\n",
       "      <th>open</th>\n",
       "      <th>high</th>\n",
       "      <th>low</th>\n",
       "      <th>pct</th>\n",
       "      <th>close</th>\n",
       "    </tr>\n",
       "    <tr>\n",
       "      <th>date</th>\n",
       "      <th></th>\n",
       "      <th></th>\n",
       "      <th></th>\n",
       "      <th></th>\n",
       "      <th></th>\n",
       "      <th></th>\n",
       "    </tr>\n",
       "  </thead>\n",
       "  <tbody>\n",
       "    <tr>\n",
       "      <th>2013-01-03</th>\n",
       "      <td>2750470</td>\n",
       "      <td>257.27</td>\n",
       "      <td>260.880</td>\n",
       "      <td>256.370</td>\n",
       "      <td>0.004547</td>\n",
       "      <td>258.4800</td>\n",
       "    </tr>\n",
       "    <tr>\n",
       "      <th>2013-01-04</th>\n",
       "      <td>1874011</td>\n",
       "      <td>257.58</td>\n",
       "      <td>259.800</td>\n",
       "      <td>256.650</td>\n",
       "      <td>0.002592</td>\n",
       "      <td>259.1500</td>\n",
       "    </tr>\n",
       "    <tr>\n",
       "      <th>2013-01-07</th>\n",
       "      <td>4909389</td>\n",
       "      <td>262.97</td>\n",
       "      <td>269.725</td>\n",
       "      <td>262.670</td>\n",
       "      <td>0.035922</td>\n",
       "      <td>268.4592</td>\n",
       "    </tr>\n",
       "    <tr>\n",
       "      <th>2013-01-08</th>\n",
       "      <td>3008773</td>\n",
       "      <td>267.07</td>\n",
       "      <td>268.980</td>\n",
       "      <td>263.567</td>\n",
       "      <td>-0.007745</td>\n",
       "      <td>266.3800</td>\n",
       "    </tr>\n",
       "    <tr>\n",
       "      <th>2013-01-09</th>\n",
       "      <td>2262402</td>\n",
       "      <td>268.17</td>\n",
       "      <td>269.500</td>\n",
       "      <td>265.401</td>\n",
       "      <td>-0.000113</td>\n",
       "      <td>266.3500</td>\n",
       "    </tr>\n",
       "  </tbody>\n",
       "</table>\n",
       "</div>"
      ],
      "text/plain": [
       "             volume    open     high      low       pct     close\n",
       "date                                                             \n",
       "2013-01-03  2750470  257.27  260.880  256.370  0.004547  258.4800\n",
       "2013-01-04  1874011  257.58  259.800  256.650  0.002592  259.1500\n",
       "2013-01-07  4909389  262.97  269.725  262.670  0.035922  268.4592\n",
       "2013-01-08  3008773  267.07  268.980  263.567 -0.007745  266.3800\n",
       "2013-01-09  2262402  268.17  269.500  265.401 -0.000113  266.3500"
      ]
     },
     "execution_count": 3,
     "metadata": {},
     "output_type": "execute_result"
    }
   ],
   "source": [
    "rawdata = pd.read_csv(homeDir + 'Data/' + stock + '.csv')\n",
    "## Reformat date\n",
    "rawdata['date'] = [datetime.strptime(t, '%m/%d/%Y').strftime('%Y-%m-%d') for t in rawdata['date']]\n",
    "## Sort date by date\n",
    "rawdata.sort_values(by = 'date', ascending=True, inplace=True)\n",
    "## Percentage Change\n",
    "rawdata['pct'] = rawdata['close'].pct_change()\n",
    "rawdata.dropna(inplace=True)\n",
    "## Describe data\n",
    "rawdata = rawdata[['date', 'volume', 'open', 'high', 'low', 'pct', 'close']]\n",
    "rawdata.set_index('date', inplace=True)\n",
    "print('Historical stock price data for', rawdata.shape[0], 'days')\n",
    "print('from', rawdata.index[0], 'to', rawdata.index[rawdata.shape[0]-1])\n",
    "rawdata.head()"
   ]
  },
  {
   "cell_type": "markdown",
   "metadata": {},
   "source": [
    "#### Visualize the five-year daily close price data"
   ]
  },
  {
   "cell_type": "code",
   "execution_count": 4,
   "metadata": {
    "scrolled": false
   },
   "outputs": [
    {
     "data": {
      "image/png": "[encoded data removed]",
      "text/plain": [
       "<matplotlib.figure.Figure at 0x10c38f160>"
      ]
     },
     "metadata": {},
     "output_type": "display_data"
    }
   ],
   "source": [
    "plt.plot(rawdata.index, rawdata['close'], color='royalblue')\n",
    "plt.title('Daily close price')\n",
    "plt.xlabel('Day')\n",
    "plt.ylabel('Dollar')\n",
    "plt.xticks([0, 252, 504, 756, 1008], ('2013', '2014', '2015', '2016', '2017') )\n",
    "plt.show()"
   ]
  },
  {
   "cell_type": "markdown",
   "metadata": {},
   "source": [
    "## 2. Data Preprocessing\n",
    "\n",
    "### 2.1 Scale features\n",
    "\n",
    "The input and output data that go into model need to be scaled. Use preprocessing.MinMaxScaler() function in scikit-learn library to scale data to the range of 0-1.\n",
    "\n",
    "#### Scaled data"
   ]
  },
  {
   "cell_type": "code",
   "execution_count": 5,
   "metadata": {
    "collapsed": true
   },
   "outputs": [],
   "source": [
    "data=rawdata.copy()"
   ]
  },
  {
   "cell_type": "code",
   "execution_count": 6,
   "metadata": {
    "scrolled": true
   },
   "outputs": [
    {
     "name": "stderr",
     "output_type": "stream",
     "text": [
      "/Users/yiqiaochen/anaconda3/lib/python3.6/site-packages/sklearn/utils/validation.py:475: DataConversionWarning: Data with input dtype int64 was converted to float64 by MinMaxScaler.\n",
      "  warnings.warn(msg, DataConversionWarning)\n",
      "/Users/yiqiaochen/anaconda3/lib/python3.6/site-packages/ipykernel_launcher.py:6: FutureWarning: reshape is deprecated and will raise in a subsequent release. Please use .values.reshape(...) instead\n",
      "  \n"
     ]
    },
    {
     "data": {
      "text/html": [
       "<div>\n",
       "<style>\n",
       "    .dataframe thead tr:only-child th {\n",
       "        text-align: right;\n",
       "    }\n",
       "\n",
       "    .dataframe thead th {\n",
       "        text-align: left;\n",
       "    }\n",
       "\n",
       "    .dataframe tbody tr th {\n",
       "        vertical-align: top;\n",
       "    }\n",
       "</style>\n",
       "<table border=\"1\" class=\"dataframe\">\n",
       "  <thead>\n",
       "    <tr style=\"text-align: right;\">\n",
       "      <th></th>\n",
       "      <th>volume</th>\n",
       "      <th>open</th>\n",
       "      <th>high</th>\n",
       "      <th>low</th>\n",
       "      <th>pct</th>\n",
       "      <th>close</th>\n",
       "    </tr>\n",
       "    <tr>\n",
       "      <th>date</th>\n",
       "      <th></th>\n",
       "      <th></th>\n",
       "      <th></th>\n",
       "      <th></th>\n",
       "      <th></th>\n",
       "      <th></th>\n",
       "    </tr>\n",
       "  </thead>\n",
       "  <tbody>\n",
       "    <tr>\n",
       "      <th>2013-01-03</th>\n",
       "      <td>0.072845</td>\n",
       "      <td>0.009685</td>\n",
       "      <td>0.009139</td>\n",
       "      <td>0.012416</td>\n",
       "      <td>0.455738</td>\n",
       "      <td>0.011882</td>\n",
       "    </tr>\n",
       "    <tr>\n",
       "      <th>2013-01-04</th>\n",
       "      <td>0.034326</td>\n",
       "      <td>0.010046</td>\n",
       "      <td>0.007898</td>\n",
       "      <td>0.012743</td>\n",
       "      <td>0.447958</td>\n",
       "      <td>0.012659</td>\n",
       "    </tr>\n",
       "    <tr>\n",
       "      <th>2013-01-07</th>\n",
       "      <td>0.167727</td>\n",
       "      <td>0.016313</td>\n",
       "      <td>0.019308</td>\n",
       "      <td>0.019781</td>\n",
       "      <td>0.580597</td>\n",
       "      <td>0.023451</td>\n",
       "    </tr>\n",
       "    <tr>\n",
       "      <th>2013-01-08</th>\n",
       "      <td>0.084197</td>\n",
       "      <td>0.021080</td>\n",
       "      <td>0.018451</td>\n",
       "      <td>0.020830</td>\n",
       "      <td>0.406821</td>\n",
       "      <td>0.021041</td>\n",
       "    </tr>\n",
       "    <tr>\n",
       "      <th>2013-01-09</th>\n",
       "      <td>0.051395</td>\n",
       "      <td>0.022359</td>\n",
       "      <td>0.019049</td>\n",
       "      <td>0.022974</td>\n",
       "      <td>0.437194</td>\n",
       "      <td>0.021006</td>\n",
       "    </tr>\n",
       "  </tbody>\n",
       "</table>\n",
       "</div>"
      ],
      "text/plain": [
       "              volume      open      high       low       pct     close\n",
       "date                                                                  \n",
       "2013-01-03  0.072845  0.009685  0.009139  0.012416  0.455738  0.011882\n",
       "2013-01-04  0.034326  0.010046  0.007898  0.012743  0.447958  0.012659\n",
       "2013-01-07  0.167727  0.016313  0.019308  0.019781  0.580597  0.023451\n",
       "2013-01-08  0.084197  0.021080  0.018451  0.020830  0.406821  0.021041\n",
       "2013-01-09  0.051395  0.022359  0.019049  0.022974  0.437194  0.021006"
      ]
     },
     "execution_count": 6,
     "metadata": {},
     "output_type": "execute_result"
    }
   ],
   "source": [
    "min_max_scaler = preprocessing.MinMaxScaler()\n",
    "data['volume'] = min_max_scaler.fit_transform(data['volume'].values.reshape(-1,1))\n",
    "data['open'] = min_max_scaler.fit_transform(data['open'].values.reshape(-1,1))\n",
    "data['high'] = min_max_scaler.fit_transform(data['high'].values.reshape(-1,1))\n",
    "data['low'] = min_max_scaler.fit_transform(data['low'].values.reshape(-1,1))\n",
    "data['pct'] = min_max_scaler.fit_transform(data['pct'].reshape(-1,1))\n",
    "data['close'] = min_max_scaler.fit_transform(data['close'].values.reshape(-1,1))\n",
    "\n",
    "data.head()"
   ]
  },
  {
   "cell_type": "markdown",
   "metadata": {},
   "source": [
    "### 2.2 Split data to training set and test set\n",
    "\n",
    "Split data into training (60%) and test sets (40%)."
   ]
  },
  {
   "cell_type": "code",
   "execution_count": 7,
   "metadata": {
    "collapsed": true
   },
   "outputs": [],
   "source": [
    "data = data.as_matrix()\n",
    "df = []\n",
    "for index in range(len(data) - 31):\n",
    "    df.append(data[index: index + 31])\n",
    "df = np.array(df)"
   ]
  },
  {
   "cell_type": "code",
   "execution_count": 8,
   "metadata": {
    "scrolled": true
   },
   "outputs": [
    {
     "name": "stdout",
     "output_type": "stream",
     "text": [
      "Training set: 712 obs\n",
      "Test set: 474 obs\n"
     ]
    }
   ],
   "source": [
    "splitRow = round(0.6 * df.shape[0])\n",
    "\n",
    "## Training (60%)\n",
    "train = df[:int(splitRow), :]\n",
    "X_train = train[:, :-1] # all data until day 30\n",
    "y_train = train[:, -1][:,-1] # day 31 close price\n",
    "print('Training set:', train.shape[0], 'obs')\n",
    "\n",
    "## Test (40%)\n",
    "test = df[int(splitRow):, :]\n",
    "X_test = test[:, :-1] # all data until day 30\n",
    "y_test = test[:, -1][:,-1] # day 31 close price\n",
    "print('Test set:', test.shape[0], 'obs')"
   ]
  },
  {
   "cell_type": "code",
   "execution_count": 9,
   "metadata": {},
   "outputs": [
    {
     "data": {
      "image/png": "[encoded data removed]",
      "text/plain": [
       "<matplotlib.figure.Figure at 0x1013ae080>"
      ]
     },
     "metadata": {},
     "output_type": "display_data"
    }
   ],
   "source": [
    "rawtrain = rawdata.iloc[31:743]\n",
    "rawtest = rawdata.iloc[743:1217]\n",
    "plt.plot(rawtrain.index, rawtrain['close'], color='royalblue', label='Training')\n",
    "plt.plot(rawtest.index, rawtest['close'], color='mediumseagreen', label='Test')\n",
    "plt.xticks([220, 473, 724, 976], ('2014', '2015', '2016', '2017'))\n",
    "plt.legend(loc='upper left')\n",
    "plt.title('Daily close price')\n",
    "plt.xlabel('Day')\n",
    "plt.ylabel('Dollar')\n",
    "plt.show()"
   ]
  },
  {
   "cell_type": "markdown",
   "metadata": {},
   "source": [
    "## 3. Modeling\n",
    "\n",
    "Now predict the close price for day $m$ based on data observed in the past 30 days $\\{m-30, m-29, ...m-1\\}$.\n",
    "\n",
    "### 3.1 Define Network\n",
    "\n",
    "Define a **Sequential Model** and add:\n",
    "- input layer with dimension (30, 6);\n",
    "- two LSTM layers with 256 neurons;\n",
    "- one hidden layers with 32 neurons with 'Relu';\n",
    "- one linear output layer."
   ]
  },
  {
   "cell_type": "code",
   "execution_count": 10,
   "metadata": {
    "collapsed": true
   },
   "outputs": [],
   "source": [
    "neurons = [256, 256, 32, 1]\n",
    "shape = [30, 6, 1]\n",
    "dropout = 0.3\n",
    "decay = 0.5\n",
    "epochs = 90"
   ]
  },
  {
   "cell_type": "code",
   "execution_count": 11,
   "metadata": {},
   "outputs": [
    {
     "name": "stdout",
     "output_type": "stream",
     "text": [
      "_________________________________________________________________\n",
      "Layer (type)                 Output Shape              Param #   \n",
      "=================================================================\n",
      "lstm_1 (LSTM)                (None, 30, 256)           269312    \n",
      "_________________________________________________________________\n",
      "dropout_1 (Dropout)          (None, 30, 256)           0         \n",
      "_________________________________________________________________\n",
      "lstm_2 (LSTM)                (None, 256)               525312    \n",
      "_________________________________________________________________\n",
      "dropout_2 (Dropout)          (None, 256)               0         \n",
      "_________________________________________________________________\n",
      "dense_1 (Dense)              (None, 32)                8224      \n",
      "_________________________________________________________________\n",
      "dense_2 (Dense)              (None, 1)                 33        \n",
      "=================================================================\n",
      "Total params: 802,881\n",
      "Trainable params: 802,881\n",
      "Non-trainable params: 0\n",
      "_________________________________________________________________\n"
     ]
    }
   ],
   "source": [
    "model = Sequential()\n",
    "\n",
    "model.add(LSTM(neurons[0], input_shape=(shape[0], shape[1]), return_sequences=True))\n",
    "model.add(Dropout(dropout))\n",
    "\n",
    "model.add(LSTM(neurons[1], input_shape=(shape[0], shape[1]), return_sequences=False))\n",
    "model.add(Dropout(dropout))\n",
    "\n",
    "model.add(Dense(neurons[2],kernel_initializer=\"uniform\",activation='relu'))\n",
    "model.add(Dense(neurons[3],kernel_initializer=\"uniform\",activation='linear'))\n",
    "\n",
    "model.summary()"
   ]
  },
  {
   "cell_type": "markdown",
   "metadata": {},
   "source": [
    "### 3.2 Compile Network\n",
    "\n",
    "Before training, configure the learning process by specifying:\n",
    "\n",
    "- **Optimizer** to be 'adam';\n",
    "\n",
    "- **Loss function** to be 'mse';\n",
    "\n",
    "- **Evaluation metric** to be 'accuracy'."
   ]
  },
  {
   "cell_type": "code",
   "execution_count": 12,
   "metadata": {
    "collapsed": true
   },
   "outputs": [],
   "source": [
    "adam = keras.optimizers.Adam(decay=decay)\n",
    "model.compile(loss='mse',optimizer='adam', metrics=['accuracy'])"
   ]
  },
  {
   "cell_type": "markdown",
   "metadata": {},
   "source": [
    "### 3.3 Train Network\n",
    "\n",
    "Fit the model to training data to learn the parameters.\n"
   ]
  },
  {
   "cell_type": "code",
   "execution_count": 13,
   "metadata": {
    "scrolled": true
   },
   "outputs": [
    {
     "data": {
      "text/plain": [
       "<keras.callbacks.History at 0x1014149e8>"
      ]
     },
     "execution_count": 13,
     "metadata": {},
     "output_type": "execute_result"
    }
   ],
   "source": [
    "model.fit(X_train, y_train,\n",
    "    batch_size=512,\n",
    "    epochs=epochs,\n",
    "    validation_split=0.2,\n",
    "    verbose=0)"
   ]
  },
  {
   "cell_type": "markdown",
   "metadata": {},
   "source": [
    "### 3.4 Evaluate Network\n",
    "\n",
    "Evaluate model on training set"
   ]
  },
  {
   "cell_type": "code",
   "execution_count": 14,
   "metadata": {},
   "outputs": [
    {
     "name": "stdout",
     "output_type": "stream",
     "text": [
      "474/474 [==============================] - 1s 2ms/step\n",
      "mean square error =  0.0111451563013\n"
     ]
    }
   ],
   "source": [
    "mse, acc = model.evaluate(X_test, y_test)\n",
    "print(\"mean square error = \", mse)"
   ]
  },
  {
   "cell_type": "markdown",
   "metadata": {},
   "source": [
    "## 4. Results\n",
    "\n",
    "The model shows that LSTM can capture the pattern of Amazon's stock prices. However, there are some gaps between predicted and true movements. We can certainly improve the performance by further tuning the model, but the assumption of the stable status in stock market mechanism makes it hard to get significantly better results. \n",
    "\n",
    "Since investor behavior is highly impacted by various factors, the future idea is to add sentiment analysis to better understand investors' pyschology. Therefore, we can capture more price catalysts in the market and achieve a better prediction with a holistic view. "
   ]
  },
  {
   "cell_type": "code",
   "execution_count": 15,
   "metadata": {
    "collapsed": true
   },
   "outputs": [],
   "source": [
    "pred = model.predict(X_test)\n",
    "pred = min_max_scaler.inverse_transform(pred)\n",
    "\n",
    "y_test = y_test.reshape(-1, 1)\n",
    "y_test = min_max_scaler.inverse_transform(y_test)\n",
    "\n",
    "y_test = [i[0] for i in y_test]\n",
    "pred = [i[0] for i in pred]\n",
    "\n",
    "respred = rawtest.copy()\n",
    "respred['close'] = pred"
   ]
  },
  {
   "cell_type": "code",
   "execution_count": 16,
   "metadata": {
    "scrolled": true
   },
   "outputs": [
    {
     "data": {
      "image/png": "[encoded data removed]",
      "text/plain": [
       "<matplotlib.figure.Figure at 0x1a2229ccf8>"
      ]
     },
     "metadata": {},
     "output_type": "display_data"
    }
   ],
   "source": [
    "plt.plot(rawtrain.index, rawtrain['close'], color='royalblue', label='Training')\n",
    "plt.plot(rawtest.index, rawtest['close'], color='mediumseagreen', label='Test')\n",
    "plt.plot(rawtest.index, respred['close'], color='indianred', label='Predicted')\n",
    "plt.xticks([220, 473, 724, 976], ('2014', '2015', '2016', '2017'))\n",
    "plt.legend(loc='upper left')\n",
    "plt.title('Daily close price')\n",
    "plt.xlabel('Day')\n",
    "plt.ylabel('Dollar')\n",
    "plt.show()"
   ]
  },
  {
   "cell_type": "code",
   "execution_count": 17,
   "metadata": {},
   "outputs": [
    {
     "data": {
      "text/html": [
       "<button onclick=\"$('.input, .prompt, .output_stderr, .output_error').toggle();\">Toggle Code</button>"
      ]
     },
     "metadata": {},
     "output_type": "display_data"
    }
   ],
   "source": [
    "from IPython.display import display_html\n",
    "display_html(\"\"\"<button onclick=\"$('.input, .prompt, .output_stderr, .output_error').toggle();\">Toggle Code</button>\"\"\", raw=True)"
   ]
  }
 ],
 "metadata": {
  "kernelspec": {
   "display_name": "Python 3",
   "language": "python",
   "name": "python3"
  },
  "language_info": {
   "codemirror_mode": {
    "name": "ipython",
    "version": 3
   },
   "file_extension": ".py",
   "mimetype": "text/x-python",
   "name": "python",
   "nbconvert_exporter": "python",
   "pygments_lexer": "ipython3",
   "version": "3.6.3"
  }
 },
 "nbformat": 4,
 "nbformat_minor": 2
}
